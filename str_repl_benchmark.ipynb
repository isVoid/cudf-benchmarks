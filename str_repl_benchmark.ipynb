{
 "cells": [
  {
   "cell_type": "markdown",
   "metadata": {},
   "source": [
    "# Data Setup"
   ]
  },
  {
   "cell_type": "code",
   "execution_count": 131,
   "metadata": {},
   "outputs": [],
   "source": [
    "import random\n",
    "import numpy as np\n",
    "\n",
    "import cudf\n",
    "from cudf.datasets import randomdata\n",
    "\n",
    "def valid_str():\n",
    "    return np.random.choice(['infinity', '-infinity', '+infinity', 'inf', '-inf', '+inf'])\n",
    "\n",
    "def make_data(height):\n",
    "    width_factor = 2\n",
    "    valid_frac = 0.5\n",
    "\n",
    "    strcol = randomdata(nrows=int(height * (1.0 - valid_frac)), dtypes={'a': str})['a']._column\n",
    "    for _ in range(1, width_factor):\n",
    "        strcol = strcol.str().cat(others=strcol)\n",
    "    \n",
    "    valid_l = [valid_str() for _ in range(int(valid_frac * height))]\n",
    "    strcol = strcol.append(valid_l)\n",
    "    \n",
    "    # shuffle\n",
    "    idx = np.array(range(len(strcol)))\n",
    "    randidx = idx.copy()\n",
    "    np.random.shuffle(randidx)\n",
    "    strcol[idx] = strcol[randidx]\n",
    "    \n",
    "    return cudf.Series(strcol)"
   ]
  },
  {
   "cell_type": "code",
   "execution_count": 138,
   "metadata": {},
   "outputs": [],
   "source": [
    "def regex_replace(s):\n",
    "    col = s._column\n",
    "    col = col.str().replace(\"\\\\+?(inf|infinity)$\", \"Inf\", regex=True)\n",
    "    col = col.str().replace(\"-(inf|infinity)$\", \"-Inf\", regex=True)\n",
    "    \n",
    "def literal_replace(s):\n",
    "    col = s._column\n",
    "    col = col.str().replace(\"+infinity\", \"Inf\", regex=False)\n",
    "    col = col.str().replace(\"-infinity\", \"-Inf\", regex=False)\n",
    "    col = col.str().replace(\"infinity\", \"Inf\", regex=False)\n",
    "    col = col.str().replace(\"+inf\", \"Inf\", regex=False)\n",
    "    col = col.str().replace(\"-inf\", \"-Inf\", regex=False)\n",
    "    col = col.str().replace(\"inf\", \"Inf\", regex=False)\n",
    "\n",
    "def scatter_replace(s):\n",
    "    s[(s == 'inf') | (s == '+inf') | (s == 'infinity') | (s == '+infinity')] = 'Inf'\n",
    "    s[(s == '-inf') | (s == '-infinity')] = '-Inf'\n",
    "\n",
    "def where_replace(s):\n",
    "    s.where((s == 'inf') | (s == '+inf') | (s == 'infinity') | (s == '+infinity'), 'Inf')\n",
    "    s.where((s == '-inf') | (s == '-infinity'), '-Inf')"
   ]
  },
  {
   "cell_type": "code",
   "execution_count": 139,
   "metadata": {},
   "outputs": [],
   "source": [
    "import timeit\n",
    "\n",
    "def run_and_time(repeats, f, *args):\n",
    "    start = timeit.default_timer()\n",
    "    for _ in range(repeats):\n",
    "        f(*args)\n",
    "    end = timeit.default_timer()\n",
    "    return (end - start) / repeats"
   ]
  },
  {
   "cell_type": "markdown",
   "metadata": {},
   "source": [
    "# Experiment"
   ]
  },
  {
   "cell_type": "code",
   "execution_count": 140,
   "metadata": {},
   "outputs": [],
   "source": [
    "import pandas as pd\n",
    "\n",
    "methods = ['regex', 'literal', 'scat', 'where']\n",
    "heights = [1000, 10000, 100000, 1000000, 10000000]\n",
    "\n",
    "index = pd.Index(methods)\n",
    "df = pd.DataFrame(index=index)\n",
    "\n",
    "repeats = 100\n",
    "for h in heights:\n",
    "    s = make_data(h)\n",
    "    \n",
    "    regex_time = run_and_time(repeats, regex_replace, s)\n",
    "    literal_time = run_and_time(repeats, literal_replace, s)\n",
    "    scat_time = run_and_time(repeats, scatter_replace, s)\n",
    "    where_time = run_and_time(repeats, where_replace, s)\n",
    "\n",
    "    df[h] = [regex_time, literal_time, scat_time, where_time]\n",
    "    "
   ]
  },
  {
   "cell_type": "code",
   "execution_count": 141,
   "metadata": {},
   "outputs": [
    {
     "data": {
      "text/html": [
       "<div>\n",
       "<style scoped>\n",
       "    .dataframe tbody tr th:only-of-type {\n",
       "        vertical-align: middle;\n",
       "    }\n",
       "\n",
       "    .dataframe tbody tr th {\n",
       "        vertical-align: top;\n",
       "    }\n",
       "\n",
       "    .dataframe thead th {\n",
       "        text-align: right;\n",
       "    }\n",
       "</style>\n",
       "<table border=\"1\" class=\"dataframe\">\n",
       "  <thead>\n",
       "    <tr style=\"text-align: right;\">\n",
       "      <th></th>\n",
       "      <th>1000</th>\n",
       "      <th>10000</th>\n",
       "      <th>100000</th>\n",
       "      <th>1000000</th>\n",
       "      <th>10000000</th>\n",
       "    </tr>\n",
       "  </thead>\n",
       "  <tbody>\n",
       "    <tr>\n",
       "      <th>regex</th>\n",
       "      <td>0.001541</td>\n",
       "      <td>0.001614</td>\n",
       "      <td>0.003102</td>\n",
       "      <td>0.018243</td>\n",
       "      <td>0.160147</td>\n",
       "    </tr>\n",
       "    <tr>\n",
       "      <th>literal</th>\n",
       "      <td>0.003229</td>\n",
       "      <td>0.003312</td>\n",
       "      <td>0.002953</td>\n",
       "      <td>0.007482</td>\n",
       "      <td>0.030352</td>\n",
       "    </tr>\n",
       "    <tr>\n",
       "      <th>scat</th>\n",
       "      <td>0.010107</td>\n",
       "      <td>0.010104</td>\n",
       "      <td>0.011162</td>\n",
       "      <td>0.018003</td>\n",
       "      <td>0.044430</td>\n",
       "    </tr>\n",
       "    <tr>\n",
       "      <th>where</th>\n",
       "      <td>0.008719</td>\n",
       "      <td>0.008948</td>\n",
       "      <td>0.008727</td>\n",
       "      <td>0.015682</td>\n",
       "      <td>0.037169</td>\n",
       "    </tr>\n",
       "  </tbody>\n",
       "</table>\n",
       "</div>"
      ],
      "text/plain": [
       "         1000      10000     100000    1000000   10000000\n",
       "regex    0.001541  0.001614  0.003102  0.018243  0.160147\n",
       "literal  0.003229  0.003312  0.002953  0.007482  0.030352\n",
       "scat     0.010107  0.010104  0.011162  0.018003  0.044430\n",
       "where    0.008719  0.008948  0.008727  0.015682  0.037169"
      ]
     },
     "execution_count": 141,
     "metadata": {},
     "output_type": "execute_result"
    }
   ],
   "source": [
    "df"
   ]
  },
  {
   "cell_type": "code",
   "execution_count": 142,
   "metadata": {},
   "outputs": [],
   "source": [
    "%matplotlib inline"
   ]
  },
  {
   "cell_type": "code",
   "execution_count": 143,
   "metadata": {},
   "outputs": [
    {
     "data": {
      "image/png": "[encoded data removed]",
      "text/plain": [
       "<Figure size 432x288 with 1 Axes>"
      ]
     },
     "metadata": {
      "needs_background": "light"
     },
     "output_type": "display_data"
    }
   ],
   "source": [
    "ax = df.T.plot.bar(xlabel='size', ylabel='time')"
   ]
  },
  {
   "cell_type": "code",
   "execution_count": null,
   "metadata": {},
   "outputs": [],
   "source": []
  }
 ],
 "metadata": {
  "kernelspec": {
   "display_name": "Python 3",
   "language": "python",
   "name": "python3"
  },
  "language_info": {
   "codemirror_mode": {
    "name": "ipython",
    "version": 3
   },
   "file_extension": ".py",
   "mimetype": "text/x-python",
   "name": "python",
   "nbconvert_exporter": "python",
   "pygments_lexer": "ipython3",
   "version": "3.7.8"
  }
 },
 "nbformat": 4,
 "nbformat_minor": 4
}
