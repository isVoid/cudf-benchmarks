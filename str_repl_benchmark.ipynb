{
 "cells": [
  {
   "cell_type": "markdown",
   "metadata": {},
   "source": [
    "# Data Setup"
   ]
  },
  {
   "cell_type": "code",
   "execution_count": 1,
   "metadata": {},
   "outputs": [],
   "source": [
    "import random\n",
    "import numpy as np\n",
    "\n",
    "import cudf\n",
    "from cudf.datasets import randomdata\n",
    "\n",
    "def valid_str():\n",
    "    yield np.random.choice(['infinity', '-infinity', '+infinity', 'inf', '-inf', '+inf'])\n",
    "\n",
    "def make_data(height):\n",
    "    width_factor = 2\n",
    "    valid_frac = 0.5\n",
    "\n",
    "    strcol = randomdata(nrows=height, dtypes={'a': str})['a']._column\n",
    "    for _ in range(1, width_factor):\n",
    "        strcol = strcol.str().cat(others=strcol)\n",
    "    \n",
    "    valid_idx = np.random.choice(height, int(height * valid_frac), replace=False)\n",
    "    \n",
    "    return cudf.Series(strcol)"
   ]
  },
  {
   "cell_type": "code",
   "execution_count": 2,
   "metadata": {},
   "outputs": [],
   "source": [
    "def regex_replace(s):\n",
    "    s._column.str().replace(\"\\\\+?(inf|infinity)$\", \"Inf\", regex=True)\n",
    "    s._column.str().replace(\"-(inf|infinity)$\", \"-Inf\", regex=True)\n",
    "    \n",
    "def literal_replace(s):\n",
    "    s._column.str().replace(\"inf\", \"Inf\", regex=False)\n",
    "    s._column.str().replace(\"+inf\", \"Inf\", regex=False)\n",
    "    s._column.str().replace(\"infinity\", \"Inf\", regex=False)\n",
    "    s._column.str().replace(\"+infinity\", \"Inf\", regex=False)\n",
    "    s._column.str().replace(\"-inf\", \"-Inf\", regex=False)\n",
    "    s._column.str().replace(\"-infinity\", \"-Inf\", regex=False)\n",
    "\n",
    "def scatter_replace(s):\n",
    "    s[(s == 'inf') | (s == '+inf') | (s == 'infinity') | (s == '+infinity')] = 'Inf'\n",
    "    s[(s == '-inf') | (s == '-infinity')] = '-Inf'\n",
    "\n",
    "def where_replace(s):\n",
    "    s.where((s == 'inf') | (s == '+inf') | (s == 'infinity') | (s == '+infinity'), 'Inf')\n",
    "    s.where((s == '-inf') | (s == '-infinity'), '-Inf')"
   ]
  },
  {
   "cell_type": "code",
   "execution_count": 3,
   "metadata": {},
   "outputs": [],
   "source": [
    "import timeit\n",
    "\n",
    "def run_and_time(repeats, f, *args):\n",
    "    start = timeit.default_timer()\n",
    "    for _ in range(repeats):\n",
    "        f(*args)\n",
    "    end = timeit.default_timer()\n",
    "    return (end - start) / repeats"
   ]
  },
  {
   "cell_type": "code",
   "execution_count": 79,
   "metadata": {},
   "outputs": [],
   "source": [
    "import pandas as pd\n",
    "\n",
    "index = pd.Index(methods)\n",
    "df = pd.DataFrame(index=index)\n",
    "\n",
    "repeats = 100\n",
    "for h in heights:\n",
    "    s = make_data(h)\n",
    "    \n",
    "    regex_time = run_and_time(repeats, regex_replace, s)\n",
    "    literal_time = run_and_time(repeats, literal_replace, s)\n",
    "    scat_time = run_and_time(repeats, scatter_replace, s)\n",
    "    where_time = run_and_time(repeats, where_replace, s)\n",
    "\n",
    "    df[h] = [regex_time, literal_time, scat_time, where_time]\n",
    "    "
   ]
  },
  {
   "cell_type": "code",
   "execution_count": 80,
   "metadata": {},
   "outputs": [
    {
     "data": {
      "text/html": [
       "<div>\n",
       "<style scoped>\n",
       "    .dataframe tbody tr th:only-of-type {\n",
       "        vertical-align: middle;\n",
       "    }\n",
       "\n",
       "    .dataframe tbody tr th {\n",
       "        vertical-align: top;\n",
       "    }\n",
       "\n",
       "    .dataframe thead th {\n",
       "        text-align: right;\n",
       "    }\n",
       "</style>\n",
       "<table border=\"1\" class=\"dataframe\">\n",
       "  <thead>\n",
       "    <tr style=\"text-align: right;\">\n",
       "      <th></th>\n",
       "      <th>1000</th>\n",
       "      <th>10000</th>\n",
       "      <th>100000</th>\n",
       "      <th>1000000</th>\n",
       "      <th>10000000</th>\n",
       "    </tr>\n",
       "  </thead>\n",
       "  <tbody>\n",
       "    <tr>\n",
       "      <th>regex</th>\n",
       "      <td>0.001454</td>\n",
       "      <td>0.001396</td>\n",
       "      <td>0.002871</td>\n",
       "      <td>0.016433</td>\n",
       "      <td>0.137835</td>\n",
       "    </tr>\n",
       "    <tr>\n",
       "      <th>literal</th>\n",
       "      <td>0.002912</td>\n",
       "      <td>0.002917</td>\n",
       "      <td>0.002872</td>\n",
       "      <td>0.008556</td>\n",
       "      <td>0.035378</td>\n",
       "    </tr>\n",
       "    <tr>\n",
       "      <th>scat</th>\n",
       "      <td>0.009960</td>\n",
       "      <td>0.009906</td>\n",
       "      <td>0.013924</td>\n",
       "      <td>0.022500</td>\n",
       "      <td>0.060896</td>\n",
       "    </tr>\n",
       "    <tr>\n",
       "      <th>where</th>\n",
       "      <td>0.008747</td>\n",
       "      <td>0.008671</td>\n",
       "      <td>0.011087</td>\n",
       "      <td>0.021248</td>\n",
       "      <td>0.047949</td>\n",
       "    </tr>\n",
       "  </tbody>\n",
       "</table>\n",
       "</div>"
      ],
      "text/plain": [
       "         1000      10000     100000    1000000   10000000\n",
       "regex    0.001454  0.001396  0.002871  0.016433  0.137835\n",
       "literal  0.002912  0.002917  0.002872  0.008556  0.035378\n",
       "scat     0.009960  0.009906  0.013924  0.022500  0.060896\n",
       "where    0.008747  0.008671  0.011087  0.021248  0.047949"
      ]
     },
     "execution_count": 80,
     "metadata": {},
     "output_type": "execute_result"
    }
   ],
   "source": [
    "df"
   ]
  },
  {
   "cell_type": "code",
   "execution_count": 81,
   "metadata": {},
   "outputs": [],
   "source": [
    "%matplotlib inline"
   ]
  },
  {
   "cell_type": "code",
   "execution_count": 83,
   "metadata": {},
   "outputs": [
    {
     "data": {
      "image/png": "[encoded data removed]",
      "text/plain": [
       "<Figure size 432x288 with 1 Axes>"
      ]
     },
     "metadata": {
      "needs_background": "light"
     },
     "output_type": "display_data"
    }
   ],
   "source": [
    "ax = df.T.plot.bar(xlabel='size', ylabel='time')"
   ]
  },
  {
   "cell_type": "code",
   "execution_count": null,
   "metadata": {},
   "outputs": [],
   "source": []
  }
 ],
 "metadata": {
  "kernelspec": {
   "display_name": "Python 3",
   "language": "python",
   "name": "python3"
  },
  "language_info": {
   "codemirror_mode": {
    "name": "ipython",
    "version": 3
   },
   "file_extension": ".py",
   "mimetype": "text/x-python",
   "name": "python",
   "nbconvert_exporter": "python",
   "pygments_lexer": "ipython3",
   "version": "3.7.8"
  }
 },
 "nbformat": 4,
 "nbformat_minor": 4
}
