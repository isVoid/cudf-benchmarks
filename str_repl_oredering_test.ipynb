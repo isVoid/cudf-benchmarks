{
 "cells": [
  {
   "cell_type": "markdown",
   "metadata": {},
   "source": [
    "# Ordering of list arugment for str.replace"
   ]
  },
  {
   "cell_type": "code",
   "execution_count": null,
   "metadata": {},
   "outputs": [],
   "source": [
    "# Data setup\n",
    "import cudf\n",
    "\n",
    "\"\"\"\n",
    "Under current experiment setup, if order of replacement is gaurenteed, then output is always:\n",
    "\"X\"\n",
    "\n",
    "If the order of replacement is not gaurenteed, then output could be:\n",
    "\"X\" or \"YY\", each output with 50% probability.\n",
    "\"\"\"\n",
    "mapping = [[\"aa\", \"a\"], [\"X\", \"Y\"]]\n",
    "test_input = \"aa\"\n",
    "\n",
    "repeats = 10 ** 5\n",
    "s = cudf.Series([test_input])\n",
    "\n"
   ]
  }
 ],
 "metadata": {
  "kernelspec": {
   "display_name": "Python 3",
   "language": "python",
   "name": "python3"
  },
  "language_info": {
   "codemirror_mode": {
    "name": "ipython",
    "version": 3
   },
   "file_extension": ".py",
   "mimetype": "text/x-python",
   "name": "python",
   "nbconvert_exporter": "python",
   "pygments_lexer": "ipython3",
   "version": "3.7.8"
  }
 },
 "nbformat": 4,
 "nbformat_minor": 4
}
